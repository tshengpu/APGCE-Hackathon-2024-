{
 "cells": [
  {
   "cell_type": "code",
   "execution_count": 9,
   "id": "3957afdd-817a-4ee0-b5bf-cfb1f38d81d4",
   "metadata": {},
   "outputs": [
    {
     "name": "stdout",
     "output_type": "stream",
     "text": [
      "Collecting openpyxl\n",
      "  Downloading openpyxl-3.1.5-py2.py3-none-any.whl.metadata (2.5 kB)\n",
      "Collecting et-xmlfile (from openpyxl)\n",
      "  Downloading et_xmlfile-2.0.0-py3-none-any.whl.metadata (2.7 kB)\n",
      "Downloading openpyxl-3.1.5-py2.py3-none-any.whl (250 kB)\n",
      "Downloading et_xmlfile-2.0.0-py3-none-any.whl (18 kB)\n",
      "Installing collected packages: et-xmlfile, openpyxl\n",
      "Successfully installed et-xmlfile-2.0.0 openpyxl-3.1.5\n",
      "Note: you may need to restart the kernel to use updated packages.\n"
     ]
    }
   ],
   "source": [
    "pip install openpyxl"
   ]
  },
  {
   "cell_type": "code",
   "execution_count": 2,
   "id": "1da50208-23bb-462b-9a4d-056108ee6bf1",
   "metadata": {},
   "outputs": [],
   "source": [
    "import pandas as pd\n",
    "import os"
   ]
  },
  {
   "cell_type": "code",
   "execution_count": 17,
   "id": "e4b5a3b7-9b32-4790-99fa-db2fccba7467",
   "metadata": {},
   "outputs": [],
   "source": [
    "indeces = [v for v in range(1000, 1441)]"
   ]
  },
  {
   "cell_type": "code",
   "execution_count": 18,
   "id": "27581ab1-e2fb-46df-aaca-2c3d5b725eb1",
   "metadata": {},
   "outputs": [],
   "source": [
    "num_fault = []\n",
    "num_horizon = []\n",
    "num_seismic = []\n",
    "\n",
    "for name in os.listdir('../data/raw_fault'):\n",
    "    if name == '.ipynb_checkpoints':\n",
    "        continue\n",
    "\n",
    "    num_fault.append(int(name.split('-')[1].split('.')[0]))\n",
    "\n",
    "for name in os.listdir('../data/raw_horizon'):\n",
    "    if name == '.ipynb_checkpoints':\n",
    "        continue\n",
    "        \n",
    "    num_horizon.append(int(name.split('-')[1].split('.')[0]))\n",
    "\n",
    "for name in os.listdir('../data/raw_seismic'):\n",
    "    if name == '.ipynb_checkpoints':\n",
    "        continue\n",
    "        \n",
    "    num_seismic.append(int(name.split('-')[1].split('.')[0]))\n",
    "\n",
    "df = pd.DataFrame({\n",
    "    'RAW_SEISMIC': [f\"seismic-{x}.png\" if x in num_seismic else None for x in indeces],\n",
    "    'RAW_FAULT': [f\"fault-{x}.png\" if x in num_fault else None for x in indeces],\n",
    "    'RAW_HORIZON': [f\"horizon-{x}.png\" if x in num_horizon else None for x in indeces]\n",
    "})"
   ]
  },
  {
   "cell_type": "code",
   "execution_count": null,
   "id": "f56f8184-dc0a-4c03-b396-a1a37b07f128",
   "metadata": {},
   "outputs": [],
   "source": [
    "import pandas as pd"
   ]
  },
  {
   "cell_type": "code",
   "execution_count": null,
   "id": "019d6947-3e72-49ed-aa30-9f147fe9cc68",
   "metadata": {},
   "outputs": [],
   "source": []
  }
 ],
 "metadata": {
  "kernelspec": {
   "display_name": "Python 3 (ipykernel)",
   "language": "python",
   "name": "python3"
  },
  "language_info": {
   "codemirror_mode": {
    "name": "ipython",
    "version": 3
   },
   "file_extension": ".py",
   "mimetype": "text/x-python",
   "name": "python",
   "nbconvert_exporter": "python",
   "pygments_lexer": "ipython3",
   "version": "3.10.12"
  }
 },
 "nbformat": 4,
 "nbformat_minor": 5
}
