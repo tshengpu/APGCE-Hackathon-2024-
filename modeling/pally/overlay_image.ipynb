{
 "cells": [
  {
   "cell_type": "code",
   "execution_count": 2,
   "id": "525af9b7-affa-41b1-ac81-70a0fe8607c5",
   "metadata": {},
   "outputs": [],
   "source": [
    "import cv2\n",
    "import os\n",
    "import numpy as np\n",
    "import pandas as pd"
   ]
  },
  {
   "cell_type": "code",
   "execution_count": 4,
   "id": "257c08ca-4854-4dbf-ba06-c12ef23606b1",
   "metadata": {},
   "outputs": [
    {
     "data": {
      "text/plain": [
       "True"
      ]
     },
     "execution_count": 4,
     "metadata": {},
     "output_type": "execute_result"
    }
   ],
   "source": [
    "img = cv2.imread(f\"../data/raw_seismic/seismic-1240.png\")\n",
    "\n",
    "horizon_mask = np.load(f\"../data/horizon_mask/horizon-1240.npy\")\n",
    "fault_mask = np.load(f\"../data/fault_mask/fault-1240.npy\")\n",
    "\n",
    "inverted_horizon_mask = cv2.bitwise_not(horizon_mask * 255)\n",
    "inverted_fault_mask = cv2.bitwise_not(fault_mask * 255)\n",
    "\n",
    "# Convert binary image to a 3-channel image for overlay (BGR format)\n",
    "fault_mask_bgr = cv2.cvtColor(inverted_fault_mask, cv2.COLOR_GRAY2BGR)\n",
    "horizon_mask_bgr = cv2.cvtColor(inverted_horizon_mask, cv2.COLOR_GRAY2BGR)\n",
    "\n",
    "overlay = cv2.addWeighted(overlay, 0.4, fault_mask_bgr, 0.6, 0)\n",
    "overlay = cv2.addWeighted(img, 0.4, horizon_mask_bgr, 0.6, 0)\n",
    "\n",
    "\n",
    "cv2.imwrite(f\"../pally/image_test.png\", overlay)"
   ]
  },
  {
   "cell_type": "code",
   "execution_count": null,
   "id": "78f481db-1cbe-4b23-babd-4fff821e48f0",
   "metadata": {},
   "outputs": [],
   "source": []
  }
 ],
 "metadata": {
  "kernelspec": {
   "display_name": "Python 3 (ipykernel)",
   "language": "python",
   "name": "python3"
  },
  "language_info": {
   "codemirror_mode": {
    "name": "ipython",
    "version": 3
   },
   "file_extension": ".py",
   "mimetype": "text/x-python",
   "name": "python",
   "nbconvert_exporter": "python",
   "pygments_lexer": "ipython3",
   "version": "3.10.12"
  }
 },
 "nbformat": 4,
 "nbformat_minor": 5
}
