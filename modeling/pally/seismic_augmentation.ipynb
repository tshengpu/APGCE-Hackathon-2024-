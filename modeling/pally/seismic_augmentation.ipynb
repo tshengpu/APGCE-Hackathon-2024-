{
 "cells": [
  {
   "cell_type": "code",
   "execution_count": null,
   "id": "2bee4ac9-1e82-4006-838f-656f7375063a",
   "metadata": {},
   "outputs": [],
   "source": [
    "code = os.listdir('aug_horizon_mask')[105].replace(\"horizon-\",\"\").replace(\".npy\",\"\")\n",
    "img = cv2.imread(f'aug_raw_seismic/seismic-{code}.png')\n",
    "horizon_mask = np.load(f'aug_horizon_mask/horizon-{code}.npy')\n",
    "inverted_horizon_mask = cv2.bitwise_not(horizon_mask * 255)\n",
    "\n",
    "# Convert binary image to a 3-channel image for overlay (BGR format)\n",
    "horizon_mask_bgr = cv2.cvtColor(inverted_horizon_mask, cv2.COLOR_GRAY2BGR)\n",
    "\n",
    "overlay = cv2.addWeighted(img, 0.5, horizon_mask_bgr, 0.5, 0)\n",
    "\n",
    "cv2.imwrite(\"overlay_img_horizon.png\", overlay)"
   ]
  }
 ],
 "metadata": {
  "kernelspec": {
   "display_name": "Python 3 (ipykernel)",
   "language": "python",
   "name": "python3"
  },
  "language_info": {
   "codemirror_mode": {
    "name": "ipython",
    "version": 3
   },
   "file_extension": ".py",
   "mimetype": "text/x-python",
   "name": "python",
   "nbconvert_exporter": "python",
   "pygments_lexer": "ipython3",
   "version": "3.10.12"
  }
 },
 "nbformat": 4,
 "nbformat_minor": 5
}
