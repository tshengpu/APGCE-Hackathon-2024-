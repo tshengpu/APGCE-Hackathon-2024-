{
 "cells": [
  {
   "cell_type": "markdown",
   "id": "c4c77719-5d5b-4545-8e26-2b8f3512d8e7",
   "metadata": {},
   "source": [
    "## Import libraries"
   ]
  },
  {
   "cell_type": "code",
   "execution_count": 1,
   "id": "a66952f5-e226-465e-abcc-e1eb59f48e34",
   "metadata": {},
   "outputs": [],
   "source": [
    "import os\n",
    "import pandas as pd\n",
    "import numpy as np\n",
    "import copy\n",
    "import torch\n",
    "import loss\n",
    "from torch import optim\n",
    "from metrics import eval_metrics, get_epoch_acc\n",
    "from dataloader import DataLoader\n",
    "from cross_val import CrossVal\n",
    "from torchvision import transforms\n",
    "from eval import eval\n",
    "from config import ModelParameters\n",
    "from PIL import Image\n",
    "import cv2\n",
    "import metrics\n",
    "from metrics import eval_metrics\n",
    "from metrics import get_epoch_acc\n",
    "\n",
    "# Import available models, you can also explore other PyTorch models\n",
    "from cracknet import cracknet, CrackNet\n",
    "# from unet import UNet\n",
    "# from segnet import SegNet, SegResNet"
   ]
  },
  {
   "cell_type": "code",
   "execution_count": 5,
   "id": "7641c43b-aa23-4cd9-be9e-982df074a00e",
   "metadata": {},
   "outputs": [],
   "source": [
    "DEVICE = torch.device('cuda:0' if torch.cuda.is_available() else 'cpu')\n",
    "DEVICE = \"cpu\"\n",
    "os.environ[\"TORCH_USE_CUDA_DSA\"] = \"1\""
   ]
  },
  {
   "cell_type": "code",
   "execution_count": 3,
   "id": "ebfb8c8e-48da-494f-bc92-d490b109bb9f",
   "metadata": {},
   "outputs": [],
   "source": [
    "num_fault = []\n",
    "num_horizon = []\n",
    "num_seismic = []\n",
    "\n",
    "for name in os.listdir('../data/aug_fault_mask'):\n",
    "    if name == '.ipynb_checkpoints':\n",
    "        continue\n",
    "    code = name.replace(\"fault\",\"\").replace(\".npy\",\"\")\n",
    "    if os.path.isfile('../data/aug_horizon_mask/horizon{}.npy'.format(code)) and os.path.isfile('../data/aug_raw_seismic/seismic{}.png'.format(code)):\n",
    "        num_fault.append(name)\n",
    "        num_horizon.append('horizon{}.npy'.format(code))\n",
    "        num_seismic.append('seismic{}.png'.format(code))\n",
    "    \n",
    "\n",
    "df = pd.DataFrame({\n",
    "    'RAW_SEISMIC': [f\"{x}\" for x in num_seismic],\n",
    "    'RAW_FAULT': [f\"{x}\" for x in num_fault],\n",
    "    'RAW_HORIZON': [f\"{x}\" for x in num_horizon]\n",
    "})"
   ]
  },
  {
   "cell_type": "code",
   "execution_count": 4,
   "id": "6c9010f4-bc81-4cf7-b8d9-26200bd05ea9",
   "metadata": {},
   "outputs": [],
   "source": [
    "cv = CrossVal(df, 3)\n",
    "dataloaders = cv\n",
    "# dataset = {}\n",
    "# dataset['train'] = LabelMe(data_folder=os.path.join(DIR,'train'), transform=data_transforms['train'],\n",
    "#                                 img_size=(1024, 1024))\n",
    "# dataset['val'] = LabelMe(data_folder=os.path.join(DIR,'val'), transform=data_transforms['val'],\n",
    "#                                 img_size=(1024, 1024))\n",
    "# dataloaders = {x: torch.utils.data.DataLoader(dataset[x], batch_size = BATCH_SIZE,\n",
    "#                                             shuffle = True, num_workers = 8, \n",
    "#                                             drop_last = False)\n",
    "#                                             for x in ['train', 'val']}\n",
    "class_count = len(dataloaders[0]['train'].dataset.label)"
   ]
  },
  {
   "cell_type": "code",
   "execution_count": 3,
   "id": "8ef98cd8-aef9-458f-9f02-e74fa7836f4e",
   "metadata": {
    "scrolled": true
   },
   "outputs": [],
   "source": [
    "PATH = \"../shared/models/cracknet cutoff focal loss revised w augmentation part 3.pt.pt\"\n",
    "# PATH = \"../shared/models/unet cutoff focal loss revised w augmentation.pt.pt\"\n",
    "# PATH = \"../shared/models/unet cutoff focal loss revised w augmentation part 2.pt.pt\"\n",
    "model = torch.load(PATH, weights_only=False)"
   ]
  },
  {
   "cell_type": "code",
   "execution_count": 23,
   "id": "9bbb2d75-9e6d-41fb-a776-0b5f6dfbad2c",
   "metadata": {},
   "outputs": [],
   "source": [
    "idx = 200\n",
    "dl = DataLoader([],[],[], (512, 512))\n",
    "img = []\n",
    "img.append(dl.input_transforms(Image.open(os.path.join(\"../data/aug_raw_seismic\", df.at[idx, \"RAW_SEISMIC\"]))))\n",
    "img = torch.stack(img, dim=0)\n",
    "mask = []\n",
    "mask.append(torch.from_numpy(cv2.resize(np.load(os.path.join(\"../data/aug_fault_mask\", df.at[idx, \"RAW_FAULT\"])).astype(np.uint8), dl.IMAGE_SIZE, cv2.INTER_AREA).astype(np.int64)))\n",
    "mask = torch.stack(mask, dim=0)\n",
    "model = model.to(DEVICE)\n",
    "img = img.to(DEVICE)\n",
    "mask = mask.to(DEVICE)\n",
    "mask_pred = model(img)"
   ]
  },
  {
   "cell_type": "code",
   "execution_count": 33,
   "id": "3e0cb462-f30e-44b4-bec0-0e3b44261cd6",
   "metadata": {},
   "outputs": [
    {
     "data": {
      "text/plain": [
       "(0.7102247476577759, 1)"
      ]
     },
     "execution_count": 33,
     "metadata": {},
     "output_type": "execute_result"
    }
   ],
   "source": [
    "eval_metrics(mask_pred, mask, class_count, ModelParameters.EVAL_METRIC)"
   ]
  },
  {
   "cell_type": "code",
   "execution_count": 34,
   "id": "bd36082a-2267-46f5-a212-91ae8294cd14",
   "metadata": {},
   "outputs": [
    {
     "name": "stdout",
     "output_type": "stream",
     "text": [
      "2\n"
     ]
    }
   ],
   "source": [
    "inter, union = eval_metrics(mask_pred, mask, class_count, 'batch_intersection_union')"
   ]
  },
  {
   "cell_type": "code",
   "execution_count": 35,
   "id": "a698ab3c-388b-4695-a4bc-402f5925660a",
   "metadata": {},
   "outputs": [
    {
     "data": {
      "text/plain": [
       "np.float64(0.8276767921331318)"
      ]
     },
     "execution_count": 35,
     "metadata": {},
     "output_type": "execute_result"
    }
   ],
   "source": [
    "get_epoch_acc(inter, union, 'batch_intersection_union')"
   ]
  },
  {
   "cell_type": "code",
   "execution_count": 27,
   "id": "06ea3ee6-d4fd-455b-a063-c259b1a01bed",
   "metadata": {},
   "outputs": [
    {
     "data": {
      "text/plain": [
       "torch.Size([2, 512, 512])"
      ]
     },
     "execution_count": 27,
     "metadata": {},
     "output_type": "execute_result"
    }
   ],
   "source": [
    "mask_pred1 = mask_pred[0]\n",
    "mask_pred1.shape"
   ]
  },
  {
   "cell_type": "code",
   "execution_count": 28,
   "id": "181ad91c-9296-4878-a9f9-8c31b661447b",
   "metadata": {},
   "outputs": [
    {
     "data": {
      "text/plain": [
       "True"
      ]
     },
     "execution_count": 28,
     "metadata": {},
     "output_type": "execute_result"
    }
   ],
   "source": [
    "_, predict1 = torch.max(mask_pred1.data, 0)\n",
    "predict1_np = predict1.numpy()\n",
    "inverted_fault_mask = (255 - predict1_np * 255).astype('uint8')\n",
    "transform = transforms.Resize((512, 512))\n",
    "img = Image.open(os.path.join(\"../data/aug_raw_seismic\", df.at[idx, \"RAW_SEISMIC\"]))\n",
    "img = np.asarray(transform(img))\n",
    "# Convert binary image to a 3-channel image for overlay (BGR format)\n",
    "fault_mask_bgr = cv2.cvtColor(inverted_fault_mask, cv2.COLOR_GRAY2BGR)\n",
    "\n",
    "overlay = cv2.addWeighted(img, 0.5, fault_mask_bgr, 0.5, 0)\n",
    "\n",
    "cv2.imwrite(\"overlay_img_fault.png\", overlay)"
   ]
  },
  {
   "cell_type": "code",
   "execution_count": 6,
   "id": "c5fdda2e-f0d6-400c-b6b1-fe129a28545d",
   "metadata": {},
   "outputs": [],
   "source": [
    "code = '1000_122_959_0'\n",
    "code = '1240_1240_398_0'\n",
    "code = '1234_558_383_1'\n",
    "code = '1024_482_757_1'\n",
    "# code = '1024'\n",
    "dl = DataLoader([],[],[], (512, 512))\n",
    "img = []\n",
    "img.append(dl.input_transforms(Image.open(f\"../data/aug_raw_seismic_hasfault/seismic-{code}.png\")))\n",
    "img = torch.stack(img, dim=0)\n",
    "mask = []\n",
    "mask.append(torch.from_numpy(cv2.resize(np.load(f\"../data/aug_fault_mask_filter_hasfault/fault-{code}.npy\").astype(np.uint8), dl.IMAGE_SIZE, cv2.INTER_AREA).astype(np.int64)))\n",
    "mask = torch.stack(mask, dim=0)\n",
    "model = model.to(DEVICE)\n",
    "img = img.to(DEVICE)\n",
    "mask = mask.to(DEVICE)\n",
    "mask_pred = model(img)"
   ]
  },
  {
   "cell_type": "code",
   "execution_count": 7,
   "id": "593a413d-5189-417d-9cba-a1618f47a7dd",
   "metadata": {},
   "outputs": [
    {
     "data": {
      "text/plain": [
       "torch.Size([2, 512, 512])"
      ]
     },
     "execution_count": 7,
     "metadata": {},
     "output_type": "execute_result"
    }
   ],
   "source": [
    "mask_pred1 = mask_pred[0]\n",
    "mask_pred1.shape"
   ]
  },
  {
   "cell_type": "code",
   "execution_count": 8,
   "id": "f93f32b2-4201-4ede-9a4e-c76472e2df8a",
   "metadata": {},
   "outputs": [
    {
     "name": "stdout",
     "output_type": "stream",
     "text": [
      "242.01187133789062\n"
     ]
    },
    {
     "data": {
      "text/plain": [
       "True"
      ]
     },
     "execution_count": 8,
     "metadata": {},
     "output_type": "execute_result"
    }
   ],
   "source": [
    "_, predict1 = torch.max(mask_pred1.data, 0)\n",
    "#predict1 = mask_pred1.data[1] > 0\n",
    "predict1_np = predict1.numpy()\n",
    "inverted_fault_mask = (255 - predict1_np * 255).astype('uint8')\n",
    "transform = transforms.Resize((512, 512))\n",
    "img = Image.open(f\"../data/aug_raw_seismic_hasfault/seismic-{code}.png\")\n",
    "img = np.asarray(transform(img))\n",
    "# Convert binary image to a 3-channel image for overlay (BGR format)\n",
    "fault_mask_bgr = cv2.cvtColor(inverted_fault_mask, cv2.COLOR_GRAY2BGR)\n",
    "\n",
    "overlay = cv2.addWeighted(img, 0.5, fault_mask_bgr, 0.5, 0)\n",
    "print(inverted_fault_mask.mean())\n",
    "cv2.imwrite(\"overlay_img_fault1.png\", overlay)"
   ]
  },
  {
   "cell_type": "code",
   "execution_count": 9,
   "id": "3db48970-399f-49e7-a8ef-d640a944e06a",
   "metadata": {},
   "outputs": [],
   "source": [
    "import numpy as np\n",
    "import matplotlib.pyplot as plt\n",
    "from scipy.signal import convolve2d\n",
    "from scipy.ndimage import gaussian_filter\n"
   ]
  },
  {
   "cell_type": "code",
   "execution_count": 218,
   "id": "652ce967-d4fc-41d4-bd69-0e9d1d6b7a50",
   "metadata": {},
   "outputs": [],
   "source": [
    "def wiener_deblur(blurred, kernel, noise_level=1e-12):\n",
    "    \"\"\"\n",
    "    Wiener deconvolution for approximate deblurring.\n",
    "    \n",
    "    Parameters:\n",
    "    blurred (numpy.ndarray): Blurred image.\n",
    "    kernel (numpy.ndarray): Gaussian blur kernel.\n",
    "    noise_level (float): Regularization parameter.\n",
    "    \n",
    "    Returns:\n",
    "    numpy.ndarray: Deblurred image approximation.\n",
    "    \"\"\"\n",
    "    # Pad kernel to the size of the image\n",
    "    # kernel_padded = np.zeros_like(blurred)\n",
    "    kernel_padded = blurred.detach().numpy()\n",
    "    kh, kw = kernel.shape\n",
    "    kernel_padded[:kh, :kw] = kernel\n",
    "    \n",
    "    # Fourier transforms\n",
    "    kernel_ft = np.fft.fft2(kernel_padded)\n",
    "    blurred_ft = np.fft.fft2(blurred.detach().numpy())\n",
    "    # blurred_ft = np.fft.fft2(kernel_padded)\n",
    "    \n",
    "    # Wiener deconvolution formula\n",
    "    kernel_ft_conj = np.conj(kernel_ft)\n",
    "    deblurred_ft = (kernel_ft_conj / (kernel_ft * kernel_ft_conj + noise_level)) * blurred_ft\n",
    "    \n",
    "    # Inverse Fourier transform to get back the image\n",
    "    deblurred = np.fft.ifft2(deblurred_ft).real\n",
    "    return np.clip(deblurred, 0, 1)"
   ]
  },
  {
   "cell_type": "code",
   "execution_count": 219,
   "id": "19df20c6-f425-4118-9b68-35f1c98d1384",
   "metadata": {},
   "outputs": [
    {
     "name": "stdout",
     "output_type": "stream",
     "text": [
      "torch.Size([512, 512])\n"
     ]
    }
   ],
   "source": [
    "# Parameters\n",
    "blurred = mask_pred[0][1]\n",
    "print(blurred.shape)\n",
    "sigma = 1e4 # Blur intensity\n",
    "noise_level = 1e-2\n",
    "\n",
    "# Gaussian blur kernel\n",
    "kernel_size = 15\n",
    "kernel = np.zeros((kernel_size, kernel_size))\n",
    "kernel[kernel_size // 2, kernel_size // 2] = 1\n",
    "kernel = gaussian_filter(kernel, sigma=sigma)\n",
    "\n",
    "deblurred = wiener_deblur(blurred, kernel, noise_level=noise_level)"
   ]
  },
  {
   "cell_type": "code",
   "execution_count": 220,
   "id": "c365016f-23e3-49de-bcf3-97104d9e1c67",
   "metadata": {},
   "outputs": [
    {
     "data": {
      "text/plain": [
       "torch.Size([1, 2, 512, 512])"
      ]
     },
     "execution_count": 220,
     "metadata": {},
     "output_type": "execute_result"
    }
   ],
   "source": [
    "mask_pred.shape"
   ]
  },
  {
   "cell_type": "code",
   "execution_count": 145,
   "id": "d73b621c-ab34-4496-b9a8-ca1e01fc068c",
   "metadata": {},
   "outputs": [
    {
     "data": {
      "text/plain": [
       "np.float32(1.0340703e-05)"
      ]
     },
     "execution_count": 145,
     "metadata": {},
     "output_type": "execute_result"
    }
   ],
   "source": [
    "deblurred.mean()"
   ]
  },
  {
   "cell_type": "code",
   "execution_count": 146,
   "id": "d8b32f69-7c0b-4a4d-9a49-e590fc916cde",
   "metadata": {},
   "outputs": [
    {
     "name": "stdout",
     "output_type": "stream",
     "text": [
      "[[[  0   0   0]\n",
      "  [254 254 254]\n",
      "  [254 254 254]\n",
      "  ...\n",
      "  [254 254 254]\n",
      "  [254 254 254]\n",
      "  [254 254 254]]\n",
      "\n",
      " [[254 254 254]\n",
      "  [254 254 254]\n",
      "  [255 255 255]\n",
      "  ...\n",
      "  [255 255 255]\n",
      "  [255 255 255]\n",
      "  [255 255 255]]\n",
      "\n",
      " [[254 254 254]\n",
      "  [255 255 255]\n",
      "  [254 254 254]\n",
      "  ...\n",
      "  [254 254 254]\n",
      "  [254 254 254]\n",
      "  [255 255 255]]\n",
      "\n",
      " ...\n",
      "\n",
      " [[254 254 254]\n",
      "  [255 255 255]\n",
      "  [254 254 254]\n",
      "  ...\n",
      "  [255 255 255]\n",
      "  [255 255 255]\n",
      "  [254 254 254]]\n",
      "\n",
      " [[254 254 254]\n",
      "  [255 255 255]\n",
      "  [254 254 254]\n",
      "  ...\n",
      "  [254 254 254]\n",
      "  [254 254 254]\n",
      "  [255 255 255]]\n",
      "\n",
      " [[254 254 254]\n",
      "  [255 255 255]\n",
      "  [255 255 255]\n",
      "  ...\n",
      "  [254 254 254]\n",
      "  [255 255 255]\n",
      "  [254 254 254]]]\n"
     ]
    },
    {
     "data": {
      "text/plain": [
       "True"
      ]
     },
     "execution_count": 146,
     "metadata": {},
     "output_type": "execute_result"
    }
   ],
   "source": [
    "inverted_fault_mask = (255 - deblurred * 255).astype('uint8')\n",
    "transform = transforms.Resize((512, 512))\n",
    "img = Image.open(f\"../data/aug_raw_seismic_hasfault/seismic-{code}.png\")\n",
    "img = np.asarray(transform(img))\n",
    "# Convert binary image to a 3-channel image for overlay (BGR format)\n",
    "fault_mask_bgr = cv2.cvtColor(inverted_fault_mask, cv2.COLOR_GRAY2BGR)\n",
    "print(fault_mask_bgr)\n",
    "overlay = cv2.addWeighted(img, 0.5, fault_mask_bgr, 0.5, 0)\n",
    "\n",
    "cv2.imwrite(\"overlay_img_fault2.png\", overlay)"
   ]
  },
  {
   "cell_type": "code",
   "execution_count": 147,
   "id": "75d6d834-7d1b-45b1-a04f-8cd34db84da7",
   "metadata": {},
   "outputs": [
    {
     "data": {
      "text/plain": [
       "np.float64(254.4996452331543)"
      ]
     },
     "execution_count": 147,
     "metadata": {},
     "output_type": "execute_result"
    }
   ],
   "source": [
    "inverted_fault_mask.mean()"
   ]
  },
  {
   "cell_type": "code",
   "execution_count": 169,
   "id": "32cfb468-2d01-442b-ace9-2a5f72575251",
   "metadata": {},
   "outputs": [],
   "source": [
    "def unsharp_mask(image, sigma=0.001, strength=0.001):\n",
    "    \"\"\"\n",
    "    Apply unsharp masking to an image.\n",
    "    \n",
    "    Parameters:\n",
    "    image (numpy.ndarray): Input image.\n",
    "    sigma (float): Sigma for Gaussian blur.\n",
    "    strength (float): Scaling factor for enhancement.\n",
    "    \n",
    "    Returns:\n",
    "    numpy.ndarray: Sharpened image.\n",
    "    \"\"\"\n",
    "    blurred = gaussian_filter(image.detach().numpy(), sigma=sigma)\n",
    "    mask = image.detach().numpy() - blurred\n",
    "    sharpened = image.detach().numpy() + strength * mask\n",
    "    return np.clip(sharpened, 0, 1)  # Assuming normalized [0, 1] input\n"
   ]
  },
  {
   "cell_type": "code",
   "execution_count": 170,
   "id": "d59a0fc9-3cb2-4309-81fd-f6bdf6e3e97e",
   "metadata": {},
   "outputs": [],
   "source": [
    "sharpened_image = unsharp_mask(blurred)"
   ]
  },
  {
   "cell_type": "code",
   "execution_count": 171,
   "id": "40207a2c-056e-4e86-a903-882f2cca4008",
   "metadata": {},
   "outputs": [
    {
     "data": {
      "text/plain": [
       "np.float32(0.0476022)"
      ]
     },
     "execution_count": 171,
     "metadata": {},
     "output_type": "execute_result"
    }
   ],
   "source": [
    "sharpened_image.mean()"
   ]
  },
  {
   "cell_type": "code",
   "execution_count": 172,
   "id": "0ce72880-a9ba-43bc-b020-660fac37c3b8",
   "metadata": {},
   "outputs": [
    {
     "name": "stdout",
     "output_type": "stream",
     "text": [
      "[[[253 253 253]\n",
      "  [253 253 253]\n",
      "  [253 253 253]\n",
      "  ...\n",
      "  [255 255 255]\n",
      "  [255 255 255]\n",
      "  [255 255 255]]\n",
      "\n",
      " [[253 253 253]\n",
      "  [253 253 253]\n",
      "  [253 253 253]\n",
      "  ...\n",
      "  [255 255 255]\n",
      "  [255 255 255]\n",
      "  [255 255 255]]\n",
      "\n",
      " [[253 253 253]\n",
      "  [253 253 253]\n",
      "  [253 253 253]\n",
      "  ...\n",
      "  [255 255 255]\n",
      "  [255 255 255]\n",
      "  [255 255 255]]\n",
      "\n",
      " ...\n",
      "\n",
      " [[255 255 255]\n",
      "  [231 231 231]\n",
      "  [233 233 233]\n",
      "  ...\n",
      "  [255 255 255]\n",
      "  [255 255 255]\n",
      "  [255 255 255]]\n",
      "\n",
      " [[242 242 242]\n",
      "  [254 254 254]\n",
      "  [252 252 252]\n",
      "  ...\n",
      "  [255 255 255]\n",
      "  [255 255 255]\n",
      "  [255 255 255]]\n",
      "\n",
      " [[241 241 241]\n",
      "  [249 249 249]\n",
      "  [255 255 255]\n",
      "  ...\n",
      "  [255 255 255]\n",
      "  [255 255 255]\n",
      "  [255 255 255]]]\n"
     ]
    },
    {
     "data": {
      "text/plain": [
       "True"
      ]
     },
     "execution_count": 172,
     "metadata": {},
     "output_type": "execute_result"
    }
   ],
   "source": [
    "inverted_fault_mask = (255 - sharpened_image * 255).astype('uint8')\n",
    "transform = transforms.Resize((512, 512))\n",
    "img = Image.open(f\"../data/aug_raw_seismic_hasfault/seismic-{code}.png\")\n",
    "img = np.asarray(transform(img))\n",
    "# Convert binary image to a 3-channel image for overlay (BGR format)\n",
    "fault_mask_bgr = cv2.cvtColor(inverted_fault_mask, cv2.COLOR_GRAY2BGR)\n",
    "print(fault_mask_bgr)\n",
    "overlay = cv2.addWeighted(img, 0.5, fault_mask_bgr, 0.5, 0)\n",
    "\n",
    "cv2.imwrite(\"overlay_img_fault3.png\", overlay)"
   ]
  },
  {
   "cell_type": "code",
   "execution_count": 177,
   "id": "aec15d67-af1a-4a5e-8d86-2bbc61377268",
   "metadata": {},
   "outputs": [
    {
     "data": {
      "text/plain": [
       "tensor([[0.0044, 0.0044, 0.0044,  ..., 0.0000, 0.0000, 0.0000],\n",
       "        [0.0044, 0.0044, 0.0044,  ..., 0.0000, 0.0000, 0.0000],\n",
       "        [0.0044, 0.0044, 0.0044,  ..., 0.0000, 0.0000, 0.0000],\n",
       "        ...,\n",
       "        [0.0000, 0.0920, 0.0854,  ..., 0.0000, 0.0000, 0.0000],\n",
       "        [0.0505, 0.0002, 0.0087,  ..., 0.0000, 0.0000, 0.0000],\n",
       "        [0.0537, 0.0197, 0.0000,  ..., 0.0000, 0.0000, 0.0000]],\n",
       "       grad_fn=<SelectBackward0>)"
      ]
     },
     "execution_count": 177,
     "metadata": {},
     "output_type": "execute_result"
    }
   ],
   "source": [
    "mask_pred[0][1]."
   ]
  },
  {
   "cell_type": "code",
   "execution_count": 229,
   "id": "4a9fa752-a3bb-4adf-b0f9-1e58575abb93",
   "metadata": {
    "scrolled": true
   },
   "outputs": [
    {
     "data": {
      "text/plain": [
       "True"
      ]
     },
     "execution_count": 229,
     "metadata": {},
     "output_type": "execute_result"
    }
   ],
   "source": [
    "# inverted_fault_mask = (255 - sharpened_image * 255).astype('uint8')\n",
    "\n",
    "kernel_size = 3  # Size of the structuring element\n",
    "\n",
    "kernel = cv2.getStructuringElement(cv2.MORPH_RECT, (kernel_size, kernel_size))\n",
    "# sheng_mask = mask_pred[0][1].detach().numpy().astype('uint8')\n",
    "sheng_mask = cv2.erode(sharpened_image, kernel, iterations=1)\n",
    "#sheng_mask = (255 - sheng_mask * 255).astype('uint8')\n",
    "#sheng_mask = cv2.bitwise_not(sheng_mask)\n",
    "#sheng_mask = cv2.erode(sheng_mask, kernel, iterations=1)\n",
    "#sheng_mask = cv2.bitwise_not(sheng_mask) # invert back\n",
    "\n",
    "\n",
    "transform = transforms.Resize((512, 512))\n",
    "img = Image.open(f\"../data/aug_raw_seismic_hasfault/seismic-{code}.png\")\n",
    "img = np.asarray(transform(img))\n",
    "# # Convert binary image to a 3-channel image for overlay (BGR format)\n",
    "sheng_mask = cv2.cvtColor(sheng_mask, cv2.COLOR_GRAY2BGR)\n",
    "# print(img.shape)\n",
    "# print(sheng_mask.shape)\n",
    "\n",
    "\n",
    "# # print(fault_mask_bgr)\n",
    "overlay = cv2.addWeighted(img, 0.5, sheng_mask, 0.5, 0)\n",
    "\n",
    "cv2.imwrite(\"overlay_img_fault3.png\", overlay)\n",
    "# cv2.imwrite(\"overlay_img_fault3.png\", sheng_mask)"
   ]
  },
  {
   "cell_type": "code",
   "execution_count": null,
   "id": "08e6dc5d-abe5-4c98-b2ea-ca041bbd7f1e",
   "metadata": {},
   "outputs": [],
   "source": []
  }
 ],
 "metadata": {
  "kernelspec": {
   "display_name": "Python 3 (ipykernel)",
   "language": "python",
   "name": "python3"
  },
  "language_info": {
   "codemirror_mode": {
    "name": "ipython",
    "version": 3
   },
   "file_extension": ".py",
   "mimetype": "text/x-python",
   "name": "python",
   "nbconvert_exporter": "python",
   "pygments_lexer": "ipython3",
   "version": "3.8.10"
  }
 },
 "nbformat": 4,
 "nbformat_minor": 5
}
